{
  "cells": [
    {
      "cell_type": "code",
      "execution_count": 3,
      "metadata": {
        "colab": {
          "base_uri": "https://localhost:8080/"
        },
        "id": "XwS3JKt-U1CE",
        "outputId": "e0efb7ca-5b70-4ac2-df77-77b25e9414a2"
      },
      "outputs": [
        {
          "output_type": "stream",
          "name": "stdout",
          "text": [
            "Mounted at /content/drive\n"
          ]
        }
      ],
      "source": [
        "#My dataset is available in googledrive; so I am accessing my drive from colab\n",
        "from google.colab import drive\n",
        "drive.mount('/content/drive', force_remount=True)\n",
        "#Once this is executed, you will see your drive appearing on the left hand side"
      ]
    },
    {
      "cell_type": "code",
      "execution_count": 4,
      "metadata": {
        "id": "SMPHESYVVnzp"
      },
      "outputs": [],
      "source": [
        "# Define paths to the dataset\n",
        "train_dir = '/content/drive/MyDrive/train'  # Update with your actual path\n",
        "test_dir = '/content/drive/MyDrive/test'    # Update with your actual path"
      ]
    },
    {
      "cell_type": "code",
      "execution_count": 6,
      "metadata": {
        "colab": {
          "base_uri": "https://localhost:8080/"
        },
        "id": "wwfZiLtU6Ruq",
        "outputId": "67bd23a9-ebdb-49a4-ca0c-bd784a6428eb"
      },
      "outputs": [
        {
          "output_type": "stream",
          "name": "stdout",
          "text": [
            "750\n",
            "1244\n",
            "100\n",
            "100\n"
          ]
        }
      ],
      "source": [
        "import os\n",
        "print(len(os.listdir('/content/drive/MyDrive/train/sun')))\n",
        "print(len(os.listdir('/content/drive/MyDrive/train/moon')))\n",
        "print(len(os.listdir('/content/drive/MyDrive/test/sun')))\n",
        "print(len(os.listdir('/content/drive/MyDrive/test/moon')))"
      ]
    },
    {
      "cell_type": "code",
      "execution_count": 7,
      "metadata": {
        "colab": {
          "base_uri": "https://localhost:8080/"
        },
        "id": "kf8li3JNUJR1",
        "outputId": "c7ad8c62-2469-432e-f67a-52af3119495a"
      },
      "outputs": [
        {
          "output_type": "stream",
          "name": "stdout",
          "text": [
            "Found 1596 images belonging to 3 classes.\n",
            "Found 398 images belonging to 3 classes.\n"
          ]
        }
      ],
      "source": [
        "import tensorflow as tf\n",
        "from tensorflow.keras.preprocessing.image import ImageDataGenerator\n",
        "\n",
        "# Create ImageDataGenerator for training set\n",
        "train_datagen = ImageDataGenerator(\n",
        "    rescale=1./255,\n",
        "    validation_split=0.2  # Split 20% of the images for validation\n",
        ")\n",
        "\n",
        "# Load and prepare training data\n",
        "train_data = train_datagen.flow_from_directory(\n",
        "    train_dir,\n",
        "    target_size=(256,256),\n",
        "    batch_size=32,\n",
        "    class_mode='binary',  # 'binary' for binary classification (sun vs. moon)\n",
        "    subset='training'  # Specify 'training' for the training set\n",
        ")\n",
        "\n",
        "# Create ImageDataGenerator for validation set\n",
        "validation_datagen = ImageDataGenerator(\n",
        "    rescale=1./255,\n",
        "    validation_split=0.2  # Note: Using the same validation split as in the training set\n",
        ")\n",
        "\n",
        "# Load and prepare validation data\n",
        "validation_data = validation_datagen.flow_from_directory(\n",
        "    train_dir,\n",
        "    target_size=(256,256),\n",
        "    batch_size=32,\n",
        "    class_mode='binary',\n",
        "    subset='validation'  # Specify 'validation' for the validation set\n",
        ")"
      ]
    },
    {
      "cell_type": "code",
      "execution_count": 8,
      "metadata": {
        "id": "wGp6oIfQWMFh"
      },
      "outputs": [],
      "source": [
        "from tensorflow import keras\n",
        "from keras import Sequential\n",
        "from keras.layers import Dense,Conv2D,MaxPooling2D,Flatten,BatchNormalization,UpSampling2D, Dropout"
      ]
    },
    {
      "cell_type": "code",
      "execution_count": 9,
      "metadata": {
        "id": "6liLEEzLWNB5"
      },
      "outputs": [],
      "source": [
        "# create CNN model\n",
        "\n",
        "model = Sequential()\n",
        "\n",
        "model.add(Conv2D(32,kernel_size=(3,3),padding='valid',activation='relu',input_shape=(256,256,3)))  # 32 filters\n",
        "#model.add(BatchNormalization())  # added to reduce overfitting\n",
        "model.add(MaxPooling2D(pool_size=(2,2),strides=2,padding='valid'))\n",
        "\n",
        "model.add(Conv2D(64,kernel_size=(3,3),padding='valid',activation='relu'))\n",
        "#model.add(BatchNormalization())  # added to reduce overfitting\n",
        "model.add(MaxPooling2D(pool_size=(2,2),strides=2,padding='valid'))\n",
        "\n",
        "model.add(Conv2D(128,kernel_size=(3,3),padding='valid',activation='relu'))\n",
        "#model.add(BatchNormalization())  # added to reduce overfitting\n",
        "model.add(MaxPooling2D(pool_size=(2,2),strides=2,padding='valid'))\n",
        "\n",
        "model.add(Flatten())\n",
        "\n",
        "model.add(Dense(128,activation='relu')) #feature reduction\n",
        "#model.add(Dropout(0.1))  # added to reduce overfitting\n",
        "model.add(Dense(64,activation='relu'))\n",
        "#model.add(Dropout(0.1))  # added to reduce overfitting\n",
        "model.add(Dense(1,activation='sigmoid'))  #output layer"
      ]
    },
    {
      "cell_type": "code",
      "execution_count": 10,
      "metadata": {
        "id": "SeBjyn0iWXgY"
      },
      "outputs": [],
      "source": [
        "from keras.optimizers import Adam\n",
        "model.compile(optimizer=Adam(learning_rate=0.001),loss='binary_crossentropy',metrics=['accuracy']) #binary_crossentropy - binary classification"
      ]
    },
    {
      "cell_type": "code",
      "execution_count": 11,
      "metadata": {
        "colab": {
          "base_uri": "https://localhost:8080/"
        },
        "id": "lGbY2VpIWbTt",
        "outputId": "f6e25c81-a202-47df-8d92-db2eb304ab47"
      },
      "outputs": [
        {
          "output_type": "stream",
          "name": "stdout",
          "text": [
            "Epoch 1/30\n",
            "50/50 [==============================] - 502s 10s/step - loss: -2103978.2500 - accuracy: 0.6228 - val_loss: -15529018.0000 - val_accuracy: 0.6231\n",
            "Epoch 2/30\n",
            "50/50 [==============================] - 264s 5s/step - loss: -639197056.0000 - accuracy: 0.6241 - val_loss: -2931958784.0000 - val_accuracy: 0.6231\n",
            "Epoch 3/30\n",
            "50/50 [==============================] - 252s 5s/step - loss: -22614528000.0000 - accuracy: 0.6241 - val_loss: -70422568960.0000 - val_accuracy: 0.6231\n",
            "Epoch 4/30\n",
            "50/50 [==============================] - 258s 5s/step - loss: -266446700544.0000 - accuracy: 0.6241 - val_loss: -640313982976.0000 - val_accuracy: 0.6231\n",
            "Epoch 5/30\n",
            "50/50 [==============================] - 250s 5s/step - loss: -1680947806208.0000 - accuracy: 0.6241 - val_loss: -3367461453824.0000 - val_accuracy: 0.6231\n",
            "Epoch 6/30\n",
            "50/50 [==============================] - 248s 5s/step - loss: -7327467962368.0000 - accuracy: 0.6241 - val_loss: -13051082309632.0000 - val_accuracy: 0.6231\n",
            "Epoch 7/30\n",
            "50/50 [==============================] - 261s 5s/step - loss: -24223502303232.0000 - accuracy: 0.6241 - val_loss: -39622826524672.0000 - val_accuracy: 0.6231\n",
            "Epoch 8/30\n",
            "50/50 [==============================] - 252s 5s/step - loss: -66367332024320.0000 - accuracy: 0.6241 - val_loss: -100926941560832.0000 - val_accuracy: 0.6231\n",
            "Epoch 9/30\n",
            "50/50 [==============================] - 261s 5s/step - loss: -155927479058432.0000 - accuracy: 0.6241 - val_loss: -227851773149184.0000 - val_accuracy: 0.6231\n",
            "Epoch 10/30\n",
            "50/50 [==============================] - 251s 5s/step - loss: -332436273627136.0000 - accuracy: 0.6241 - val_loss: -458639760424960.0000 - val_accuracy: 0.6231\n",
            "Epoch 11/30\n",
            "50/50 [==============================] - 251s 5s/step - loss: -647952188047360.0000 - accuracy: 0.6241 - val_loss: -871267536207872.0000 - val_accuracy: 0.6231\n",
            "Epoch 12/30\n",
            "50/50 [==============================] - 261s 5s/step - loss: -1186759056556032.0000 - accuracy: 0.6241 - val_loss: -1539215749808128.0000 - val_accuracy: 0.6231\n",
            "Epoch 13/30\n",
            "50/50 [==============================] - 255s 5s/step - loss: -2025833128525824.0000 - accuracy: 0.6241 - val_loss: -2593516538560512.0000 - val_accuracy: 0.6231\n",
            "Epoch 14/30\n",
            "50/50 [==============================] - 259s 5s/step - loss: -3307561830842368.0000 - accuracy: 0.6241 - val_loss: -4136890487799808.0000 - val_accuracy: 0.6231\n",
            "Epoch 15/30\n",
            "50/50 [==============================] - 255s 5s/step - loss: -5190598973718528.0000 - accuracy: 0.6241 - val_loss: -6315884163366912.0000 - val_accuracy: 0.6231\n",
            "Epoch 16/30\n",
            "50/50 [==============================] - 251s 5s/step - loss: -7825486784757760.0000 - accuracy: 0.6241 - val_loss: -9474618398081024.0000 - val_accuracy: 0.6231\n",
            "Epoch 17/30\n",
            "50/50 [==============================] - 256s 5s/step - loss: -11501981474488320.0000 - accuracy: 0.6241 - val_loss: -13689991360151552.0000 - val_accuracy: 0.6231\n",
            "Epoch 18/30\n",
            "50/50 [==============================] - 257s 5s/step - loss: -16418275919396864.0000 - accuracy: 0.6241 - val_loss: -19354529237565440.0000 - val_accuracy: 0.6231\n",
            "Epoch 19/30\n",
            "50/50 [==============================] - 255s 5s/step - loss: -22961730535555072.0000 - accuracy: 0.6241 - val_loss: -26701502441586688.0000 - val_accuracy: 0.6231\n",
            "Epoch 20/30\n",
            "50/50 [==============================] - 252s 5s/step - loss: -31473264794533888.0000 - accuracy: 0.6241 - val_loss: -36243343520301056.0000 - val_accuracy: 0.6231\n",
            "Epoch 21/30\n",
            "50/50 [==============================] - 254s 5s/step - loss: -42314670635220992.0000 - accuracy: 0.6241 - val_loss: -48415298017034240.0000 - val_accuracy: 0.6231\n",
            "Epoch 22/30\n",
            "50/50 [==============================] - 263s 5s/step - loss: -55978817029668864.0000 - accuracy: 0.6241 - val_loss: -63547683276587008.0000 - val_accuracy: 0.6231\n",
            "Epoch 23/30\n",
            "50/50 [==============================] - 256s 5s/step - loss: -72915247467331584.0000 - accuracy: 0.6241 - val_loss: -82294107422064640.0000 - val_accuracy: 0.6231\n",
            "Epoch 24/30\n",
            "50/50 [==============================] - 258s 5s/step - loss: -93705397440872448.0000 - accuracy: 0.6241 - val_loss: -105483288688197632.0000 - val_accuracy: 0.6231\n",
            "Epoch 25/30\n",
            "50/50 [==============================] - 256s 5s/step - loss: -119330314790109184.0000 - accuracy: 0.6241 - val_loss: -132572721165893632.0000 - val_accuracy: 0.6231\n",
            "Epoch 26/30\n",
            "50/50 [==============================] - 253s 5s/step - loss: -149709365799026688.0000 - accuracy: 0.6241 - val_loss: -166379748782505984.0000 - val_accuracy: 0.6231\n",
            "Epoch 27/30\n",
            "50/50 [==============================] - 255s 5s/step - loss: -186196075051220992.0000 - accuracy: 0.6241 - val_loss: -206201551679651840.0000 - val_accuracy: 0.6231\n",
            "Epoch 28/30\n",
            "50/50 [==============================] - 254s 5s/step - loss: -229495375528984576.0000 - accuracy: 0.6241 - val_loss: -251781170553946112.0000 - val_accuracy: 0.6231\n",
            "Epoch 29/30\n",
            "50/50 [==============================] - 254s 5s/step - loss: -279965175447027712.0000 - accuracy: 0.6241 - val_loss: -306750824887877632.0000 - val_accuracy: 0.6231\n",
            "Epoch 30/30\n",
            "50/50 [==============================] - 255s 5s/step - loss: -338973353169649664.0000 - accuracy: 0.6241 - val_loss: -370684230587383808.0000 - val_accuracy: 0.6231\n"
          ]
        }
      ],
      "source": [
        "history = model.fit(train_data, epochs=30, validation_data=validation_data)"
      ]
    },
    {
      "cell_type": "code",
      "execution_count": 12,
      "metadata": {
        "id": "g21dMlSOWKas",
        "colab": {
          "base_uri": "https://localhost:8080/",
          "height": 430
        },
        "outputId": "6534191c-1417-4dd8-87de-d01e78b29ef3"
      },
      "outputs": [
        {
          "output_type": "display_data",
          "data": {
            "text/plain": [
              "<Figure size 640x480 with 1 Axes>"
            ],
            "image/png": "[encoded data removed]"
          },
          "metadata": {}
        }
      ],
      "source": [
        "import matplotlib.pyplot as plt\n",
        "\n",
        "plt.plot(history.history['accuracy'],color='red',label='train')\n",
        "plt.plot(history.history['val_accuracy'],color='blue',label='validation')\n",
        "plt.legend()\n",
        "plt.show()"
      ]
    },
    {
      "cell_type": "code",
      "execution_count": 13,
      "metadata": {
        "id": "FYZ0VJp4esXl",
        "colab": {
          "base_uri": "https://localhost:8080/",
          "height": 445
        },
        "outputId": "839904e1-97b8-4132-b142-7f1e84847cfe"
      },
      "outputs": [
        {
          "output_type": "display_data",
          "data": {
            "text/plain": [
              "<Figure size 640x480 with 1 Axes>"
            ],
            "image/png": "[encoded data removed]"
          },
          "metadata": {}
        }
      ],
      "source": [
        "plt.plot(history.history['loss'],color='red',label='train')\n",
        "plt.plot(history.history['val_loss'],color='blue',label='validation')\n",
        "plt.legend()\n",
        "plt.show()"
      ]
    },
    {
      "cell_type": "code",
      "execution_count": 14,
      "metadata": {
        "id": "tQj_RyrZWBEt",
        "colab": {
          "base_uri": "https://localhost:8080/"
        },
        "outputId": "44457ad3-eb01-4dac-bd34-f9c98741c5ed"
      },
      "outputs": [
        {
          "output_type": "stream",
          "name": "stdout",
          "text": [
            "Found 200 images belonging to 3 classes.\n"
          ]
        }
      ],
      "source": [
        "test_datagen = ImageDataGenerator(rescale=1./255)\n",
        "test_data = test_datagen.flow_from_directory(\n",
        "    test_dir,\n",
        "    target_size=(256,256),\n",
        "    batch_size=32,\n",
        "    class_mode='binary'\n",
        ")"
      ]
    },
    {
      "cell_type": "code",
      "execution_count": 15,
      "metadata": {
        "id": "glicW8_5vTqd",
        "colab": {
          "base_uri": "https://localhost:8080/"
        },
        "outputId": "b910b21e-8023-4078-8e0f-bc40545acba8"
      },
      "outputs": [
        {
          "output_type": "stream",
          "name": "stdout",
          "text": [
            "7/7 [==============================] - 57s 9s/step\n",
            "[[1.]\n",
            " [1.]\n",
            " [1.]\n",
            " [1.]\n",
            " [1.]\n",
            " [1.]\n",
            " [1.]\n",
            " [1.]\n",
            " [1.]\n",
            " [1.]\n",
            " [1.]\n",
            " [1.]\n",
            " [1.]\n",
            " [1.]\n",
            " [1.]\n",
            " [1.]\n",
            " [1.]\n",
            " [1.]\n",
            " [1.]\n",
            " [1.]\n",
            " [1.]\n",
            " [1.]\n",
            " [1.]\n",
            " [1.]\n",
            " [1.]\n",
            " [1.]\n",
            " [1.]\n",
            " [1.]\n",
            " [1.]\n",
            " [1.]\n",
            " [1.]\n",
            " [1.]\n",
            " [1.]\n",
            " [1.]\n",
            " [1.]\n",
            " [1.]\n",
            " [1.]\n",
            " [1.]\n",
            " [1.]\n",
            " [1.]\n",
            " [1.]\n",
            " [1.]\n",
            " [1.]\n",
            " [1.]\n",
            " [1.]\n",
            " [1.]\n",
            " [1.]\n",
            " [1.]\n",
            " [1.]\n",
            " [1.]\n",
            " [1.]\n",
            " [1.]\n",
            " [1.]\n",
            " [1.]\n",
            " [1.]\n",
            " [1.]\n",
            " [1.]\n",
            " [1.]\n",
            " [1.]\n",
            " [1.]\n",
            " [1.]\n",
            " [1.]\n",
            " [1.]\n",
            " [1.]\n",
            " [1.]\n",
            " [1.]\n",
            " [1.]\n",
            " [1.]\n",
            " [1.]\n",
            " [1.]\n",
            " [1.]\n",
            " [1.]\n",
            " [1.]\n",
            " [1.]\n",
            " [1.]\n",
            " [1.]\n",
            " [1.]\n",
            " [1.]\n",
            " [1.]\n",
            " [1.]\n",
            " [1.]\n",
            " [1.]\n",
            " [1.]\n",
            " [1.]\n",
            " [1.]\n",
            " [1.]\n",
            " [1.]\n",
            " [1.]\n",
            " [1.]\n",
            " [1.]\n",
            " [1.]\n",
            " [1.]\n",
            " [1.]\n",
            " [1.]\n",
            " [1.]\n",
            " [1.]\n",
            " [1.]\n",
            " [1.]\n",
            " [1.]\n",
            " [1.]\n",
            " [1.]\n",
            " [1.]\n",
            " [1.]\n",
            " [1.]\n",
            " [1.]\n",
            " [1.]\n",
            " [1.]\n",
            " [1.]\n",
            " [1.]\n",
            " [1.]\n",
            " [1.]\n",
            " [1.]\n",
            " [1.]\n",
            " [1.]\n",
            " [1.]\n",
            " [1.]\n",
            " [1.]\n",
            " [1.]\n",
            " [1.]\n",
            " [1.]\n",
            " [1.]\n",
            " [1.]\n",
            " [1.]\n",
            " [1.]\n",
            " [1.]\n",
            " [1.]\n",
            " [1.]\n",
            " [1.]\n",
            " [1.]\n",
            " [1.]\n",
            " [1.]\n",
            " [1.]\n",
            " [1.]\n",
            " [1.]\n",
            " [1.]\n",
            " [1.]\n",
            " [1.]\n",
            " [1.]\n",
            " [1.]\n",
            " [1.]\n",
            " [1.]\n",
            " [1.]\n",
            " [1.]\n",
            " [1.]\n",
            " [1.]\n",
            " [1.]\n",
            " [1.]\n",
            " [1.]\n",
            " [1.]\n",
            " [1.]\n",
            " [1.]\n",
            " [1.]\n",
            " [1.]\n",
            " [1.]\n",
            " [1.]\n",
            " [1.]\n",
            " [1.]\n",
            " [1.]\n",
            " [1.]\n",
            " [1.]\n",
            " [1.]\n",
            " [1.]\n",
            " [1.]\n",
            " [1.]\n",
            " [1.]\n",
            " [1.]\n",
            " [1.]\n",
            " [1.]\n",
            " [1.]\n",
            " [1.]\n",
            " [1.]\n",
            " [1.]\n",
            " [1.]\n",
            " [1.]\n",
            " [1.]\n",
            " [1.]\n",
            " [1.]\n",
            " [1.]\n",
            " [1.]\n",
            " [1.]\n",
            " [1.]\n",
            " [1.]\n",
            " [1.]\n",
            " [1.]\n",
            " [1.]\n",
            " [1.]\n",
            " [1.]\n",
            " [1.]\n",
            " [1.]\n",
            " [1.]\n",
            " [1.]\n",
            " [1.]\n",
            " [1.]\n",
            " [1.]\n",
            " [1.]\n",
            " [1.]\n",
            " [1.]\n",
            " [1.]\n",
            " [1.]\n",
            " [1.]]\n"
          ]
        }
      ],
      "source": [
        "#predict the test data\n",
        "predictions = model.predict(test_data)\n",
        "print(predictions)"
      ]
    },
    {
      "cell_type": "code",
      "execution_count": 16,
      "metadata": {
        "id": "r7XjnjcNyMbv",
        "colab": {
          "base_uri": "https://localhost:8080/"
        },
        "outputId": "8edb30f8-7558-495b-f90c-6700d6831ad1"
      },
      "outputs": [
        {
          "output_type": "execute_result",
          "data": {
            "text/plain": [
              "200"
            ]
          },
          "metadata": {},
          "execution_count": 16
        }
      ],
      "source": [
        "len(predictions)"
      ]
    },
    {
      "cell_type": "code",
      "execution_count": 17,
      "metadata": {
        "id": "oqqBXpuhyd6x",
        "colab": {
          "base_uri": "https://localhost:8080/"
        },
        "outputId": "f0a76504-8197-4379-98bf-af80a0c593c8"
      },
      "outputs": [
        {
          "output_type": "stream",
          "name": "stdout",
          "text": [
            "Confusion Matrix:\n",
            "[[100   0]\n",
            " [100   0]]\n",
            "Classification Report:\n",
            "              precision    recall  f1-score   support\n",
            "\n",
            "           1       0.50      1.00      0.67       100\n",
            "           2       0.00      0.00      0.00       100\n",
            "\n",
            "    accuracy                           0.50       200\n",
            "   macro avg       0.25      0.50      0.33       200\n",
            "weighted avg       0.25      0.50      0.33       200\n",
            "\n"
          ]
        },
        {
          "output_type": "stream",
          "name": "stderr",
          "text": [
            "/usr/local/lib/python3.10/dist-packages/sklearn/metrics/_classification.py:1344: UndefinedMetricWarning: Precision and F-score are ill-defined and being set to 0.0 in labels with no predicted samples. Use `zero_division` parameter to control this behavior.\n",
            "  _warn_prf(average, modifier, msg_start, len(result))\n",
            "/usr/local/lib/python3.10/dist-packages/sklearn/metrics/_classification.py:1344: UndefinedMetricWarning: Precision and F-score are ill-defined and being set to 0.0 in labels with no predicted samples. Use `zero_division` parameter to control this behavior.\n",
            "  _warn_prf(average, modifier, msg_start, len(result))\n",
            "/usr/local/lib/python3.10/dist-packages/sklearn/metrics/_classification.py:1344: UndefinedMetricWarning: Precision and F-score are ill-defined and being set to 0.0 in labels with no predicted samples. Use `zero_division` parameter to control this behavior.\n",
            "  _warn_prf(average, modifier, msg_start, len(result))\n"
          ]
        }
      ],
      "source": [
        "from sklearn.metrics import confusion_matrix, classification_report\n",
        "\n",
        "# Assuming you have ground truth labels (true_labels) and predicted labels (predictions)\n",
        "true_labels = test_data.classes\n",
        "predicted_labels = (predictions > 0.5).astype(int)  # Adjust the threshold as needed\n",
        "\n",
        "# Calculate confusion matrix\n",
        "cm = confusion_matrix(true_labels, predicted_labels)\n",
        "\n",
        "# Print confusion matrix\n",
        "print(\"Confusion Matrix:\")\n",
        "print(cm)\n",
        "\n",
        "# Print classification report\n",
        "print(\"Classification Report:\")\n",
        "print(classification_report(true_labels, predicted_labels))"
      ]
    },
    {
      "cell_type": "code",
      "source": [],
      "metadata": {
        "id": "H3_g55tziu9g"
      },
      "execution_count": 17,
      "outputs": []
    }
  ],
  "metadata": {
    "accelerator": "TPU",
    "colab": {
      "provenance": []
    },
    "kernelspec": {
      "display_name": "Python 3",
      "name": "python3"
    },
    "language_info": {
      "name": "python"
    }
  },
  "nbformat": 4,
  "nbformat_minor": 0
}